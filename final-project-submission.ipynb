{
 "cells": [
  {
   "cell_type": "markdown",
   "id": "4ffdb7bb-4e12-444d-af08-18005afc983a",
   "metadata": {},
   "source": [
    "## Metadata\n",
    "\n",
    "Title: Final Project for DS 5100\n",
    "\n",
    "Date: 15 Jul 22\n",
    "\n",
    "Name: Matt Manner\n",
    "\n",
    "Student ID: xkv3na\n",
    "\n",
    "Notebook URL: https://github.com/mattm3456/monte_carlo_simulator/blob/main/final-project-submission.ipynb\n",
    "\n",
    "Repo URL: https://github.com/mattm3456/monte_carlo_simulator"
   ]
  },
  {
   "cell_type": "code",
   "execution_count": null,
   "id": "5ebd2621-dba1-4b78-8724-90f4f7274fca",
   "metadata": {},
   "outputs": [],
   "source": []
  }
 ],
 "metadata": {
  "kernelspec": {
   "display_name": "Python 3 (ipykernel)",
   "language": "python",
   "name": "python3"
  },
  "language_info": {
   "codemirror_mode": {
    "name": "ipython",
    "version": 3
   },
   "file_extension": ".py",
   "mimetype": "text/x-python",
   "name": "python",
   "nbconvert_exporter": "python",
   "pygments_lexer": "ipython3",
   "version": "3.9.12"
  }
 },
 "nbformat": 4,
 "nbformat_minor": 5
}
